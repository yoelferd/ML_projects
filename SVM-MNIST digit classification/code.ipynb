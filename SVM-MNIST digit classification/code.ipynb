{
 "cells": [
  {
   "cell_type": "code",
   "execution_count": 1,
   "metadata": {
    "collapsed": false
   },
   "outputs": [
    {
     "name": "stderr",
     "output_type": "stream",
     "text": [
      "Kernel terminated -- this might be caused by running out of memory or hitting a bug in some library (e.g., forking too many processes, trying to access invalid memory, etc.). Consider restarting or upgrading your project or running the relevant code directly in a terminal to track down the cause."
     ]
    }
   ],
   "source": [
    "import csv\n",
    "import numpy as np\n",
    "import pandas as pd\n",
    "import matplotlib.pyplot as plt\n",
    "import matplotlib.image as mpimg\n",
    "from sklearn import svm, datasets\n",
    "import time\n",
    "\n",
    "#opening my data, downloaded and extracted as csv\n",
    "with open(\"mnist_train.csv\", \"rb\") as train:\n",
    "    reader = csv.reader(train)\n",
    "    train_data=[]\n",
    "    for row in reader:\n",
    "        train_data.append(row)\n",
    "\n",
    "with open(\"mnist_test.csv\", \"rb\") as test:\n",
    "    reader_te = csv.reader(test)\n",
    "    test_data =[]\n",
    "    for row in reader_te:\n",
    "        test_data.append(row)\n",
    "\n",
    "#Now I have pixel data. I will next import labels\n",
    "\n",
    "with open(\"test-labels.csv\", \"rb\") as testlabel:\n",
    "\treader_testlabel = csv.reader(testlabel)\n",
    "\ttest_labels = []\n",
    "\tfor row in reader_testlabel:\n",
    "\t\ttest_labels.append(row)\n",
    "\n",
    "with open(\"train-labels.csv\", \"rb\") as trainlabel:\n",
    "\treader_trainlabel = csv.reader(trainlabel)\n",
    "\ttrain_labels = []\n",
    "\tfor row in reader_trainlabel:\n",
    "\t\ttrain_labels.append(row)\n",
    "\t\t\n",
    "#extracting the label data to a flat list for easier handling\n",
    "train_label_list=[]\t\t\n",
    "for i in range(len(train_labels)):\n",
    "\ttrain_label_list.append(train_labels[i][1])\n",
    "\n",
    "test_label_list=[]\t\t\n",
    "for i in range(len(test_labels)):\n",
    "\ttest_label_list.append(test_labels[i][1])\n",
    "\n",
    "#creating a reduced dataset to speed up the process:\n",
    "#by only including the first 3000 entries in train set and 500 in test\n",
    "train_data_reduced = train_data[:3000]\n",
    "train_label_list_reduced = train_label_list[:3000]\n",
    "test_data_reduced = test_data[:500]\n",
    "test_label_list_reduced = test_label_list[:500]\n",
    "\n",
    "#labeling my train and test sets, set as numpy arrays\n",
    "X_train=np.asarray(train_data_reduced).astype(np.float)\n",
    "y_train=np.asarray([int(i) for i in train_label_list_reduced])\n",
    "X_test=np.asarray(test_data_reduced).astype(np.float)\n",
    "y_test=np.asarray([int(i) for i in test_label_list_reduced])\n",
    "\n",
    "\n"
   ]
  },
  {
   "cell_type": "code",
   "execution_count": 0,
   "metadata": {
    "collapsed": false
   },
   "outputs": [
   ],
   "source": [
    "##PLOTS\n",
    "number_of_plots=3  #choose how many plots to make here\n",
    "\n",
    "#plotting 7's\n",
    "c=0\n",
    "for i in range(len(train_labels)):\n",
    "\tif c<number_of_plots:\n",
    "\t\tif train_labels[i][1] == '7':\n",
    "\t\t\timg = mpimg.imread(train_labels[i][0])\n",
    "\t\t\timgplot = plt.imshow(img)\n",
    "\t\t\tc=c+1\n",
    "\t\t\tplt.show()\n",
    "\n",
    "#plotting 8's\t\t\t\n",
    "c=0\n",
    "for i in range(len(train_labels)):\n",
    "\tif c<number_of_plots:\n",
    "\t\tif train_labels[i][1] == '8':\n",
    "\t\t\timg = mpimg.imread(train_labels[i][0])\n",
    "\t\t\timgplot = plt.imshow(img)\n",
    "\t\t\tc=c+1\n",
    "\t\t\tplt.show()\n"
   ]
  },
  {
   "cell_type": "code",
   "execution_count": 0,
   "metadata": {
    "collapsed": false
   },
   "outputs": [
   ],
   "source": [
    "C = 1.0  # SVM regularization parameter\n",
    "\n",
    "#linear kernel\n",
    "clf = svm.SVC(kernel='linear', C=C)#, svm.LinearSVC(C=C)\n",
    "t0 = time.time()\n",
    "clf.fit(X_train,y_train)\n",
    "t1 = time.time()\n",
    "linear_total = t1-t0\n",
    "print \"Training time for Linear kernel:\", linear_total, \"seconds\"\n",
    "Z = clf.predict(X_test)\n",
    "errors=0\n",
    "for i in range(len(y_test)):\n",
    "\tif y_test[i] != Z[i]:\n",
    "\t\terrors+=1\n",
    "error_rate = float(errors)/float(len(y_test))\n",
    "print \"Error rate for linear kernel (in percent):\", error_rate*100\n"
   ]
  },
  {
   "cell_type": "code",
   "execution_count": 0,
   "metadata": {
    "collapsed": false
   },
   "outputs": [
   ],
   "source": [
    "#rbf kernel\n",
    "clf = svm.SVC(kernel='rbf', gamma=0.7, C=C)#, svm.LinearSVC(C=C)\n",
    "t0 = time.time()\n",
    "clf.fit(X_train,y_train)\n",
    "t1 = time.time()\n",
    "rbf_total = t1-t0\n",
    "print \"Training time for RBF kernel:\", rbf_total, \"seconds\"\n",
    "Z = clf.predict(X_test)\n",
    "errors=0\n",
    "for i in range(len(y_test)):\n",
    "\tif y_test[i] != Z[i]:\n",
    "\t\terrors+=1\n",
    "error_rate = float(errors)/float(len(y_test))\n",
    "print \"Error rate for RBF kernel (in percent):\", error_rate*100"
   ]
  },
  {
   "cell_type": "code",
   "execution_count": 0,
   "metadata": {
    "collapsed": false
   },
   "outputs": [
   ],
   "source": [
    "#poly kernel\n",
    "clf = svm.SVC(kernel='poly', degree=3, C=C)\n",
    "t0 = time.time()\n",
    "clf.fit(X_train,y_train)\n",
    "t1 = time.time()\n",
    "poly_total = t1-t0\n",
    "print \"Training time for poly kernel:\", poly_total, \"seconds\"\n",
    "Z = clf.predict(X_test)\n",
    "errors=0\n",
    "for i in range(len(y_test)):\n",
    "\tif y_test[i] != Z[i]:\n",
    "\t\terrors+=1\n",
    "error_rate = float(errors)/float(len(y_test))\n",
    "print \"Error rate for poly kernel (in percent):\", error_rate*100\n"
   ]
  }
 ],
 "metadata": {
  "kernelspec": {
   "display_name": "Python 2 (Ubuntu Linux)",
   "language": "python",
   "name": "python2-ubuntu"
  },
  "language_info": {
   "codemirror_mode": {
    "name": "ipython",
    "version": 2
   },
   "file_extension": ".py",
   "mimetype": "text/x-python",
   "name": "python",
   "nbconvert_exporter": "python",
   "pygments_lexer": "ipython2",
   "version": "2.7.12"
  }
 },
 "nbformat": 4,
 "nbformat_minor": 0
}